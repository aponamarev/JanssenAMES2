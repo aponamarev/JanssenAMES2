{
 "cells": [
  {
   "cell_type": "markdown",
   "metadata": {},
   "source": [
    "# Janssen AMES Dataset Analysis\n"
   ]
  },
  {
   "cell_type": "markdown",
   "metadata": {},
   "source": [
    "Import required packages"
   ]
  },
  {
   "cell_type": "code",
   "execution_count": 1,
   "metadata": {},
   "outputs": [],
   "source": [
    "import os\n",
    "import numpy as np\n",
    "import pandas as pd\n",
    "from matplotlib import pyplot as plt\n",
    "import warnings\n",
    "\n",
    "%matplotlib inline"
   ]
  },
  {
   "cell_type": "markdown",
   "metadata": {},
   "source": [
    "Setup paths"
   ]
  },
  {
   "cell_type": "code",
   "execution_count": 2,
   "metadata": {},
   "outputs": [],
   "source": [
    "data_path = \"datasets\""
   ]
  },
  {
   "cell_type": "code",
   "execution_count": 3,
   "metadata": {},
   "outputs": [],
   "source": [
    "if not os.path.isdir(data_path):\n",
    "    os.mkdir(data_path)\n",
    "    # load data from the google drive"
   ]
  },
  {
   "cell_type": "code",
   "execution_count": 4,
   "metadata": {},
   "outputs": [],
   "source": [
    "def load_npz(path, file_name):\n",
    "    with np.load(os.path.join(data_path, file_name), mmap_mode='rb', fix_imports=True) as file:\n",
    "        if file is None:\n",
    "            print(\"Failed to load {} file\".format(file_name))\n",
    "        else:\n",
    "            print(\"{} contains the following files: {}\".format(file_name, file.files))\n",
    "            data_arrays = []\n",
    "            for _name in file.files:\n",
    "                data = file[_name]\n",
    "                data_arrays.append(data)\n",
    "                print(\" - {} contains the data of the following shape: {}, type: {}, min: {}, max: {}\".format(_name, data.shape, data.dtype, data.min(), data.max()))\n",
    "    return data_arrays"
   ]
  },
  {
   "cell_type": "code",
   "execution_count": 5,
   "metadata": {},
   "outputs": [
    {
     "name": "stdout",
     "output_type": "stream",
     "text": [
      "ames_mrgne.npz contains the following files: ['arr_0']\n",
      " - arr_0 contains the data of the following shape: (4324, 2048), type: int64, min: 0, max: 34\n",
      "ames_mrgnf.npz contains the following files: ['arr_0']\n",
      " - arr_0 contains the data of the following shape: (4324, 4096), type: int64, min: 0, max: 1\n",
      "ames_rdkit2d.npz contains the following files: ['arr_0']\n",
      " - arr_0 contains the data of the following shape: (4324, 200), type: float64, min: nan, max: nan\n",
      "ames_data.csv contains the following fields: Index(['smiles', 'ames'], dtype='object')\n",
      " - ames column contains the following data: n records: 4324, type: int64, min: 0, max: 1\n"
     ]
    }
   ],
   "source": [
    "ames_mrgne = load_npz(data_path, \"ames_mrgne.npz\")\n",
    "ames_mrgnf = load_npz(data_path, \"ames_mrgnf.npz\")\n",
    "ames_rdkit2d = load_npz(data_path, \"ames_rdkit2d.npz\")\n",
    "\n",
    "ames_mrgne = ames_mrgne[0]\n",
    "ames_mrgnf = ames_mrgnf[0]\n",
    "ames_rdkit2d = ames_rdkit2d[0]\n",
    "\n",
    "with open(os.path.join(data_path, \"ames_data.csv\"), \"r\") as file:\n",
    "    ames_data = pd.read_csv(file)\n",
    "    if ames_data is not None:\n",
    "        _label_name = ames_data.columns[-1]\n",
    "        print(\"ames_data.csv contains the following fields: {}\".format(ames_data.columns))\n",
    "        print(\" - {} column contains the following data: n records: {}, type: {}, min: {}, max: {}\".format(\n",
    "            _label_name, ames_data[_label_name].size, ames_data[_label_name].dtype, ames_data[_label_name].min(), ames_data[_label_name].max()))\n",
    "        \n",
    "data = ames_mrgne.astype(np.float)\n",
    "labels = ames_data['ames'].astype(np.float)"
   ]
  },
  {
   "cell_type": "markdown",
   "metadata": {},
   "source": [
    "### Data analysis\n",
    "\n",
    "\n",
    "#### Validate class balance\n",
    "\n",
    "If the data is highly imbalanced, the model is likely to focus on the dominant class and limit the accuracy of the model."
   ]
  },
  {
   "cell_type": "code",
   "execution_count": 6,
   "metadata": {},
   "outputs": [
    {
     "name": "stdout",
     "output_type": "stream",
     "text": [
      "Number of samples:\n",
      "Class 0/Flase: 1931\n",
      "Class 1/True: 2393\n"
     ]
    },
    {
     "data": {
      "text/plain": [
       "Text(0, 0.5, 'Number of samples')"
      ]
     },
     "execution_count": 6,
     "metadata": {},
     "output_type": "execute_result"
    },
    {
     "data": {
      "image/png": "[encoded data removed]",
      "text/plain": [
       "<Figure size 432x288 with 1 Axes>"
      ]
     },
     "metadata": {
      "needs_background": "light"
     },
     "output_type": "display_data"
    }
   ],
   "source": [
    "print(\"Number of samples:\\nClass 0/Flase: {}\\nClass 1/True: {}\".format(sum(labels==0), sum(labels==1)))\n",
    "pd.crosstab(ames_data['ames'], ames_data['ames']).plot(kind='bar')\n",
    "plt.title('Class balance diagram')\n",
    "plt.xlabel('Mutagenicity classification')\n",
    "plt.ylabel('Number of samples')"
   ]
  },
  {
   "cell_type": "markdown",
   "metadata": {},
   "source": [
    "The diagram above indicates that the provided dataset is fairly balanced. Thus it provides a good foundation for training a model. No oversampling/subsampling is required."
   ]
  },
  {
   "cell_type": "code",
   "execution_count": 7,
   "metadata": {},
   "outputs": [],
   "source": [
    "from sklearn.model_selection import train_test_split\n",
    "from sklearn.linear_model import LogisticRegression\n",
    "from sklearn.model_selection import GridSearchCV, KFold\n",
    "from sklearn.metrics import confusion_matrix, precision_score, recall_score, accuracy_score, f1_score, make_scorer\n",
    "\n",
    "# suppress future warnings outputed by sklearn\n",
    "warnings.filterwarnings(\"ignore\", category=FutureWarning)"
   ]
  },
  {
   "cell_type": "markdown",
   "metadata": {},
   "source": [
    "### Choose and train a model\n",
    "\n",
    "In order to establish a base-line, fit a Logistic Regression. Sklearn Logistic regression is implemented with L2 regularization of model weights. The strength of the regularization is controlled with a hyperparameter \"C\". Use GridSearch to find optimal values of \"C\" hyperparameter."
   ]
  },
  {
   "cell_type": "code",
   "execution_count": 8,
   "metadata": {},
   "outputs": [
    {
     "name": "stdout",
     "output_type": "stream",
     "text": [
      "Hyperparameter 'C' selected by GridSearch: 1.0\n",
      "\n",
      "The full list of hyperparameters: \n",
      "\n",
      "{'cv': 5, 'error_score': 'raise-deprecating', 'estimator__C': 1.0, 'estimator__class_weight': None, 'estimator__dual': False, 'estimator__fit_intercept': True, 'estimator__intercept_scaling': 1, 'estimator__l1_ratio': None, 'estimator__max_iter': 100, 'estimator__multi_class': 'warn', 'estimator__n_jobs': None, 'estimator__penalty': 'l2', 'estimator__random_state': None, 'estimator__solver': 'warn', 'estimator__tol': 0.0001, 'estimator__verbose': 0, 'estimator__warm_start': False, 'estimator': LogisticRegression(C=1.0, class_weight=None, dual=False, fit_intercept=True,\n",
      "                   intercept_scaling=1, l1_ratio=None, max_iter=100,\n",
      "                   multi_class='warn', n_jobs=None, penalty='l2',\n",
      "                   random_state=None, solver='warn', tol=0.0001, verbose=0,\n",
      "                   warm_start=False), 'iid': 'warn', 'n_jobs': None, 'param_grid': {'C': [0.0001, 0.001, 0.01, 0.1, 1, 10, 100, 1000]}, 'pre_dispatch': '2*n_jobs', 'refit': True, 'return_train_score': False, 'scoring': make_scorer(f1_score), 'verbose': 0}\n"
     ]
    }
   ],
   "source": [
    "parameters = {'C': [10**p for p in range(-4,4,1)]}\n",
    "gs = GridSearchCV(LogisticRegression(), parameters, cv=5, scoring=make_scorer(f1_score))\n",
    "clf = gs.fit(data, labels)\n",
    "print(\"Hyperparameter 'C' selected by GridSearch: {}\".format(gs.get_params()['estimator__C']))\n",
    "print(\"\\nThe full list of hyperparameters: \\n\\n{}\".format(clf.get_params()))"
   ]
  },
  {
   "cell_type": "markdown",
   "metadata": {},
   "source": [
    "The model performance can vary significantly depending on the data used for training and testing. In order to remove stochasticity from the model evaluation process, I will test the model performance on K-folds."
   ]
  },
  {
   "cell_type": "code",
   "execution_count": 9,
   "metadata": {},
   "outputs": [],
   "source": [
    "def eval_classifier(classifier, x, y , k_folds=5):\n",
    "    precision, recall, accuracy, f1 = [],[],[],[]\n",
    "    \n",
    "    # In order to guaranty the consistency between runs, set :parameter random_state to a constant value\n",
    "    kf = KFold(n_splits=k_folds, random_state=1, shuffle=True)\n",
    "    for train_index, val_index in kf.split(x):\n",
    "        x_train, y_train = x[train_index], y[train_index]\n",
    "        x_val, y_val = x[val_index], y[val_index]\n",
    "\n",
    "        classifier.fit(x_train, y_train)\n",
    "\n",
    "        y_true, y_pred = y_val, classifier.predict(x_val)\n",
    "        \n",
    "        precision.append(precision_score(y_true, y_pred))\n",
    "        recall.append(recall_score(y_true, y_pred))\n",
    "        accuracy.append(accuracy_score(y_true, y_pred))\n",
    "        f1.append(f1_score(y_true, y_pred))\n",
    "\n",
    "    print(\"\\nRecall score (TP/(TP+FN)): {:.1f}%\".format(100*sum(recall)/k_folds))\n",
    "    print(\"Precision score (TP/(TP+FP)): {:.1f}%\".format(100*sum(precision)/k_folds))\n",
    "    print(\"Accuracy score (TP + TN)/total count: {:.1f}%\".format(100*sum(accuracy)/k_folds))\n",
    "    print(\"F1 score 2*(precision*recall)/(precision+recall): {:.1f}%\".format(100*sum(f1)/k_folds))"
   ]
  },
  {
   "cell_type": "code",
   "execution_count": 10,
   "metadata": {},
   "outputs": [
    {
     "name": "stdout",
     "output_type": "stream",
     "text": [
      "\n",
      "Recall score (TP/(TP+FN)): 83.3%\n",
      "Precision score (TP/(TP+FP)): 82.9%\n",
      "Accuracy score (TP + TN)/total count: 81.3%\n",
      "F1 score 2*(precision*recall)/(precision+recall): 83.1%\n"
     ]
    }
   ],
   "source": [
    "eval_classifier(clf, data, labels)"
   ]
  },
  {
   "cell_type": "markdown",
   "metadata": {},
   "source": [
    "Simple logistic regression (baseline) achieved 81.3% accuracy and **83.3% recall**. It is important to note that as the goal of the model is to determin if the molecule is mutagenic, the recall score could be a better metric for judging the model performance."
   ]
  },
  {
   "cell_type": "markdown",
   "metadata": {},
   "source": [
    "#### Normalization\n",
    "\n",
    "Nother factor that can influence Logistic Regression classifier is the scale and variance of the features. If data features have significantly different variance scales, than the model could be dominated by a features with high variance."
   ]
  },
  {
   "cell_type": "code",
   "execution_count": 11,
   "metadata": {},
   "outputs": [
    {
     "name": "stdout",
     "output_type": "stream",
     "text": [
      "Feature standrd deviations - min: 0.04020262019690676, - max: 3.7792394457114016\n"
     ]
    }
   ],
   "source": [
    "std = data.std(axis=0)\n",
    "print(\"Feature standrd deviations - min: {}, - max: {}\".format(std.min(), std.max()))"
   ]
  },
  {
   "cell_type": "markdown",
   "metadata": {},
   "source": [
    "As expected, features demonstrate a significantly differnt variance (standard deviation). In order to remidiate this problem the data should be normalized by rescalling each feature to the mean of 0 and standard deviation of 1.0:"
   ]
  },
  {
   "cell_type": "code",
   "execution_count": 12,
   "metadata": {},
   "outputs": [
    {
     "name": "stdout",
     "output_type": "stream",
     "text": [
      "Normalized feature standrd deviations - min: 0.9999999999998722, - max: 1.000000000000149\n"
     ]
    }
   ],
   "source": [
    "from sklearn.preprocessing import StandardScaler\n",
    "\n",
    "z_scaler = StandardScaler()\n",
    "norm_data = z_scaler.fit_transform(data)\n",
    "std = norm_data.std(axis=0)\n",
    "print(\"Normalized feature standrd deviations - min: {}, - max: {}\".format(std.min(), std.max()))"
   ]
  },
  {
   "cell_type": "markdown",
   "metadata": {},
   "source": [
    "Compare the performance of Logistic Regression classifier trained on normalized and on raw data."
   ]
  },
  {
   "cell_type": "code",
   "execution_count": 13,
   "metadata": {},
   "outputs": [
    {
     "name": "stdout",
     "output_type": "stream",
     "text": [
      "\n",
      "Recall score (TP/(TP+FN)): 78.2%\n",
      "Precision score (TP/(TP+FP)): 83.4%\n",
      "Accuracy score (TP + TN)/total count: 79.3%\n",
      "F1 score 2*(precision*recall)/(precision+recall): 80.7%\n"
     ]
    }
   ],
   "source": [
    "eval_classifier(clf, norm_data, labels)"
   ]
  },
  {
   "cell_type": "markdown",
   "metadata": {},
   "source": [
    "The model trained on the normalized dataset demostrates a lower accuracy (79.3% vs raw data 81.3%) and recall (78.2% vs. raw data 83.3%), which indicates that the feature scale is an important aspect of the data. Therefore, the future experiments should be performed on the raw data."
   ]
  }
 ],
 "metadata": {
  "kernelspec": {
   "display_name": "Python 3",
   "language": "python",
   "name": "python3"
  },
  "language_info": {
   "codemirror_mode": {
    "name": "ipython",
    "version": 3
   },
   "file_extension": ".py",
   "mimetype": "text/x-python",
   "name": "python",
   "nbconvert_exporter": "python",
   "pygments_lexer": "ipython3",
   "version": "3.6.8"
  }
 },
 "nbformat": 4,
 "nbformat_minor": 2
}
